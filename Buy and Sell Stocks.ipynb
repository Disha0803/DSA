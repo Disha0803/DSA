{
 "cells": [
  {
   "cell_type": "code",
   "execution_count": 4,
   "id": "41dc6064",
   "metadata": {},
   "outputs": [
    {
     "name": "stdout",
     "output_type": "stream",
     "text": [
      "Enter the number of prices you want to enter: 7\n",
      "Enter the prices:\n",
      "7\n",
      "1\n",
      "5\n",
      "3\n",
      "6\n",
      "4\n",
      "15\n",
      "The maximum profit is:  14\n"
     ]
    }
   ],
   "source": [
    "#Best Time to Buy and Sell Stocks\n",
    "#Time Complexit: O(n)\n",
    "#Space Comeple\n",
    "\n",
    "def FindMaxProfit(prices):\n",
    "    min_price=float('inf')\n",
    "    max_profit=0\n",
    "    for i in range(len(prices)):\n",
    "        if prices[i]<min_price:\n",
    "            min_price=prices[i]\n",
    "        elif prices[i] - min_price > max_profit:\n",
    "            max_profit = prices[i] - min_price\n",
    "    return max_profit\n",
    "    \n",
    "\n",
    "\n",
    "prices=[]\n",
    "n=int(input(\"Enter the number of prices you want to enter: \"))\n",
    "print(\"Enter the prices:\") \n",
    "for i in range(n):\n",
    "      num=int(input())\n",
    "      prices.append(num)\n",
    "\n",
    "result=FindMaxProfit(prices)\n",
    "print(\"The maximum profit is: \",result)            "
   ]
  },
  {
   "cell_type": "code",
   "execution_count": null,
   "id": "4b38f76e",
   "metadata": {},
   "outputs": [],
   "source": []
  }
 ],
 "metadata": {
  "kernelspec": {
   "display_name": "Python 3 (ipykernel)",
   "language": "python",
   "name": "python3"
  },
  "language_info": {
   "codemirror_mode": {
    "name": "ipython",
    "version": 3
   },
   "file_extension": ".py",
   "mimetype": "text/x-python",
   "name": "python",
   "nbconvert_exporter": "python",
   "pygments_lexer": "ipython3",
   "version": "3.11.5"
  }
 },
 "nbformat": 4,
 "nbformat_minor": 5
}

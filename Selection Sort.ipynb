{
 "cells": [
  {
   "cell_type": "code",
   "execution_count": 3,
   "id": "a9d4f7f7",
   "metadata": {},
   "outputs": [
    {
     "name": "stdout",
     "output_type": "stream",
     "text": [
      "Enter the number of elements you want to enter: 10\n",
      "Enter the elements:\n",
      "21\n",
      "13\n",
      "45\n",
      "43\n",
      "76\n",
      "68\n",
      "90\n",
      "133\n",
      "23\n",
      "54\n",
      "The sorted array is:\n",
      "13 21 23 43 45 54 68 76 90 133 "
     ]
    }
   ],
   "source": [
    "def SelectionSort(arr):\n",
    "    n=len(arr)\n",
    "    for i in range(n):\n",
    "        min=i\n",
    "        for j in range(i+1,n):\n",
    "            if arr[j]<arr[min]:\n",
    "                min=j\n",
    "        arr[i], arr[min]=arr[min], arr[i]\n",
    "    return arr\n",
    "\n",
    "arr=[]\n",
    "n=int(input(\"Enter the number of elements you want to enter: \"))\n",
    "print(\"Enter the elements:\") \n",
    "for i in range(n):\n",
    "      num=int(input())\n",
    "      arr.append(num)\n",
    "\n",
    "result=SelectionSort(arr)\n",
    "print(\"The sorted array is:\")            \n",
    "for i in range(n):\n",
    "    print(result[i],end=\" \")"
   ]
  },
  {
   "cell_type": "code",
   "execution_count": null,
   "id": "d94fafaf",
   "metadata": {},
   "outputs": [],
   "source": []
  }
 ],
 "metadata": {
  "kernelspec": {
   "display_name": "Python 3 (ipykernel)",
   "language": "python",
   "name": "python3"
  },
  "language_info": {
   "codemirror_mode": {
    "name": "ipython",
    "version": 3
   },
   "file_extension": ".py",
   "mimetype": "text/x-python",
   "name": "python",
   "nbconvert_exporter": "python",
   "pygments_lexer": "ipython3",
   "version": "3.11.5"
  }
 },
 "nbformat": 4,
 "nbformat_minor": 5
}

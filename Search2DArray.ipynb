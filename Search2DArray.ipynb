{
 "cells": [
  {
   "cell_type": "code",
   "execution_count": 14,
   "id": "30e62f18",
   "metadata": {},
   "outputs": [
    {
     "name": "stdout",
     "output_type": "stream",
     "text": [
      "Enter the number of rows: 4\n",
      "Enter the number of columns: 5\n",
      "Enter the elements:\n",
      "1\n",
      "2\n",
      "23\n",
      "45\n",
      "67\n",
      "89\n",
      "90\n",
      "99\n",
      "123\n",
      "134\n",
      "156\n",
      "178\n",
      "189\n",
      "1000\n",
      "1234\n",
      "12334\n",
      "13345\n",
      "13425636\n",
      "353687578\n",
      "32643475865746534\n",
      "[[1, 2, 23, 45, 67], [89, 90, 99, 123, 134], [156, 178, 189, 1000, 1234], [12334, 13345, 13425636, 353687578, 32643475865746534]]\n",
      "Enter the element you want to search: 46\n",
      "Not Found\n"
     ]
    }
   ],
   "source": [
    "#Searching in 2D matrix/array using Binary Search\n",
    "\n",
    "def BinarySearch2DArray(arr,x):\n",
    "    m=len(arr)\n",
    "    n=len(arr[0])\n",
    "    i,j=0,m*n-1\n",
    "    while(i<=j):\n",
    "        mid=i+(j-i)//2\n",
    "        mid_ele=arr[mid//n][mid%n]\n",
    "        if x==mid_ele:\n",
    "            return True\n",
    "        elif mid_ele<x:\n",
    "            i=mid+1\n",
    "        else:\n",
    "            j=mid-1\n",
    "    return False\n",
    "\n",
    "arr=[]\n",
    "m=int(input(\"Enter the number of rows: \"))\n",
    "n=int(input(\"Enter the number of columns: \"))\n",
    "print(\"Enter the elements:\")\n",
    "for i in range(m):\n",
    "    col=[]\n",
    "    for j in range(n):\n",
    "        num=int(input())\n",
    "        col.append(num)\n",
    "    arr.append(col)\n",
    "    \n",
    "print(arr)\n",
    "        \n",
    "key=int(input(\"Enter the element you want to search: \"))\n",
    "\n",
    "result=BinarySearch2DArray(arr,key)\n",
    "\n",
    "if result==True:\n",
    "    print(\"Found\")\n",
    "else:\n",
    "    print(\"Not Found\")\n",
    "            "
   ]
  },
  {
   "cell_type": "markdown",
   "id": "525a9277",
   "metadata": {},
   "source": [
    " "
   ]
  }
 ],
 "metadata": {
  "kernelspec": {
   "display_name": "Python 3 (ipykernel)",
   "language": "python",
   "name": "python3"
  },
  "language_info": {
   "codemirror_mode": {
    "name": "ipython",
    "version": 3
   },
   "file_extension": ".py",
   "mimetype": "text/x-python",
   "name": "python",
   "nbconvert_exporter": "python",
   "pygments_lexer": "ipython3",
   "version": "3.11.5"
  }
 },
 "nbformat": 4,
 "nbformat_minor": 5
}

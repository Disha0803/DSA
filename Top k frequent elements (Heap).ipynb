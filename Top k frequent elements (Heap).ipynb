{
 "cells": [
  {
   "cell_type": "code",
   "execution_count": 6,
   "id": "79cf474f",
   "metadata": {},
   "outputs": [
    {
     "name": "stdout",
     "output_type": "stream",
     "text": [
      "Enter the number of elements you want to enter: 3\n",
      "Enter the elements:\n",
      "1\n",
      "2\n",
      "1\n",
      "[1, 2, 1]\n",
      "Enter the value of k: 3\n",
      "{1, 2}\n"
     ]
    }
   ],
   "source": [
    "from collections import Counter\n",
    "import heapq\n",
    "def topkfrequencyElements(arr,k):\n",
    "    if k == len(arr):\n",
    "        return set(arr)\n",
    "    \n",
    "    count = Counter(arr)\n",
    "    return heapq.nlargest(k, count.keys(), key=count.get)\n",
    "\n",
    "arr=[]\n",
    "n=int(input(\"Enter the number of elements you want to enter: \"))\n",
    "print(\"Enter the elements:\") \n",
    "for i in range(n):\n",
    "      num=int(input())\n",
    "      arr.append(num)\n",
    "    \n",
    "print(arr)\n",
    "\n",
    "k=int(input(\"Enter the value of k: \"))\n",
    "print(topkfrequencyElements(arr, k))"
   ]
  },
  {
   "cell_type": "code",
   "execution_count": null,
   "id": "6e240464",
   "metadata": {},
   "outputs": [],
   "source": []
  }
 ],
 "metadata": {
  "kernelspec": {
   "display_name": "Python 3 (ipykernel)",
   "language": "python",
   "name": "python3"
  },
  "language_info": {
   "codemirror_mode": {
    "name": "ipython",
    "version": 3
   },
   "file_extension": ".py",
   "mimetype": "text/x-python",
   "name": "python",
   "nbconvert_exporter": "python",
   "pygments_lexer": "ipython3",
   "version": "3.11.5"
  }
 },
 "nbformat": 4,
 "nbformat_minor": 5
}

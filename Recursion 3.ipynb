{
 "cells": [
  {
   "cell_type": "code",
   "execution_count": 4,
   "id": "d26624a8",
   "metadata": {},
   "outputs": [
    {
     "name": "stdout",
     "output_type": "stream",
     "text": [
      "Enter the number of stairs: 4\n",
      "The number of ways to reach upstairs is:  5\n"
     ]
    }
   ],
   "source": [
    "#Count Number of Ways to Reach Upstairs\n",
    "#Time Complexity: O(2^n)\n",
    "\n",
    "def helper(n):\n",
    "    if n <= 1:\n",
    "        return n\n",
    "    else:\n",
    "        return helper(n-1)+helper(n-2)\n",
    "    \n",
    "def cnw(stairs):\n",
    "    return helper(stairs+1)\n",
    "\n",
    "stairs = int(input(\"Enter the number of stairs: \"))\n",
    "print(\"The number of ways to reach upstairs is: \",cnw(stairs))"
   ]
  },
  {
   "cell_type": "code",
   "execution_count": 15,
   "id": "d16f5bd2",
   "metadata": {},
   "outputs": [
    {
     "name": "stdout",
     "output_type": "stream",
     "text": [
      "Enter the number of stairs: 9\n",
      "The number of ways to reach upstairs is:  55\n"
     ]
    }
   ],
   "source": [
    "#Another Approach\n",
    "#Count Number of Ways to Reach Upstairs\n",
    "#Time Complexity: O(2^n)\n",
    "\n",
    "def helper(n):\n",
    "    if n <= 1:\n",
    "        return n\n",
    "    else:\n",
    "        return helper(n-1)+helper(n-2)\n",
    "    \n",
    "# def cnw(stairs):\n",
    "#     return helper(stairs+1)\n",
    "\n",
    "stairs = int(input(\"Enter the number of stairs: \"))\n",
    "print(\"The number of ways to reach upstairs is: \",helper(stairs+1))"
   ]
  }
 ],
 "metadata": {
  "kernelspec": {
   "display_name": "Python 3 (ipykernel)",
   "language": "python",
   "name": "python3"
  },
  "language_info": {
   "codemirror_mode": {
    "name": "ipython",
    "version": 3
   },
   "file_extension": ".py",
   "mimetype": "text/x-python",
   "name": "python",
   "nbconvert_exporter": "python",
   "pygments_lexer": "ipython3",
   "version": "3.11.5"
  }
 },
 "nbformat": 4,
 "nbformat_minor": 5
}

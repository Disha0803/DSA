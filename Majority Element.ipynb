{
 "cells": [
  {
   "cell_type": "code",
   "execution_count": 1,
   "id": "0d22d9f6",
   "metadata": {},
   "outputs": [
    {
     "name": "stdout",
     "output_type": "stream",
     "text": [
      "Counter({2: 4, 1: 3})\n",
      "Majority Element in an array is:  2\n"
     ]
    }
   ],
   "source": [
    "#Approch-2 --> Dictionary Data Structure (Hashing)\n",
    "#Time Complexity: O(n)\n",
    "#Space Complexity: O(n)\n",
    "\n",
    "from collections import Counter\n",
    "\n",
    "def majorityElements(nums):\n",
    "    counts=Counter(nums)\n",
    "    print(counts)\n",
    "    return max(counts.keys(), key = counts.get)\n",
    "\n",
    "nums = [2, 2, 1, 1, 1, 2, 2]\n",
    "result = majorityElements(nums)\n",
    "print(\"Majority Element in an array is: \", result)"
   ]
  },
  {
   "cell_type": "code",
   "execution_count": 4,
   "id": "f16db73f",
   "metadata": {},
   "outputs": [
    {
     "name": "stdout",
     "output_type": "stream",
     "text": [
      "There is no Majority Element present in the array\n"
     ]
    }
   ],
   "source": [
    "#Approch-3 --> Boyer Moore Voting Algorithm\n",
    "#Time Complexity: O(n)\n",
    "#Space Complexity: O(1)\n",
    "def findCandidate(nums):\n",
    "    count = 0\n",
    "    candidate = None\n",
    "    for num in nums:\n",
    "        if count == 0:\n",
    "            candidate = num\n",
    "        count += (1 if num == candidate else -1)\n",
    "    return candidate\n",
    "\n",
    "def isMajority(nums, candidate):\n",
    "    cnt=0\n",
    "    n = len(nums)\n",
    "    for i in range(n):\n",
    "        if nums[i] == candidate:\n",
    "            cnt += 1\n",
    "        \n",
    "    if cnt>n/2:\n",
    "        return 1\n",
    "    else:\n",
    "        return 0\n",
    "    \n",
    "def majorityElements(nums):\n",
    "    cand = findCandidate(nums)\n",
    "    if isMajority(nums, cand):\n",
    "        print(\"Majority Element in the array is: \", cand)\n",
    "    else:\n",
    "        print(\"There is no Majority Element present in the array\")\n",
    "\n",
    "# nums = [2, 2, 1, 1, 1, 2, 2]\n",
    "nums = [2, 3, 7, 3, 4]\n",
    "majorityElements(nums)"
   ]
  },
  {
   "cell_type": "code",
   "execution_count": null,
   "id": "370313a4",
   "metadata": {},
   "outputs": [],
   "source": []
  }
 ],
 "metadata": {
  "kernelspec": {
   "display_name": "Python 3 (ipykernel)",
   "language": "python",
   "name": "python3"
  },
  "language_info": {
   "codemirror_mode": {
    "name": "ipython",
    "version": 3
   },
   "file_extension": ".py",
   "mimetype": "text/x-python",
   "name": "python",
   "nbconvert_exporter": "python",
   "pygments_lexer": "ipython3",
   "version": "3.11.5"
  }
 },
 "nbformat": 4,
 "nbformat_minor": 5
}

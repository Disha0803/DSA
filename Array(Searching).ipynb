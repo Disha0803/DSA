{
 "cells": [
  {
   "cell_type": "code",
   "execution_count": 6,
   "id": "d066f79f",
   "metadata": {},
   "outputs": [
    {
     "name": "stdout",
     "output_type": "stream",
     "text": [
      "Enter the number of elements you want to enter: 5\n",
      "Enter the elements:\n",
      "56\n",
      "78\n",
      "23\n",
      "57\n",
      "89\n",
      "Enter the element you want to search: 23\n",
      "Element found at position:  2\n"
     ]
    }
   ],
   "source": [
    "#Linear Search\n",
    "#Time Complexity=O(n)\n",
    "#Space Complexity=O(1)\n",
    "\n",
    "def LinearSearch(arr,x):\n",
    "    for i in range(len(arr)):\n",
    "        if arr[i]==x:\n",
    "            return i\n",
    "    return -1\n",
    "\n",
    "arr=[]\n",
    "n=int(input(\"Enter the number of elements you want to enter: \"))\n",
    "print(\"Enter the elements:\")\n",
    "for i in range(n):\n",
    "      num=int(input())\n",
    "      arr.append(num)\n",
    "\n",
    "key=int(input(\"Enter the element you want to search: \"))\n",
    "result=LinearSearch(arr,key)\n",
    "if result==-1:\n",
    "      print(\"Element not found\")\n",
    "else:\n",
    "      print(\"Element found at position: \",result)\n"
   ]
  },
  {
   "cell_type": "code",
   "execution_count": 7,
   "id": "d2eb9f26",
   "metadata": {},
   "outputs": [
    {
     "data": {
      "text/plain": [
       "[56, 78, 5, 23, 57, 89]"
      ]
     },
     "execution_count": 7,
     "metadata": {},
     "output_type": "execute_result"
    }
   ],
   "source": [
    "#insert element 5 at index 2\n",
    "#TC=O(n)\n",
    "arr.insert(2,5)\n",
    "arr"
   ]
  },
  {
   "cell_type": "code",
   "execution_count": 8,
   "id": "284d8bf1",
   "metadata": {},
   "outputs": [
    {
     "data": {
      "text/plain": [
       "[56, 78, 5, 23, 89]"
      ]
     },
     "execution_count": 8,
     "metadata": {},
     "output_type": "execute_result"
    }
   ],
   "source": [
    "#Remove element 57 from the array\n",
    "#TC=O(n)\n",
    "arr.remove(57)\n",
    "arr"
   ]
  },
  {
   "cell_type": "code",
   "execution_count": 10,
   "id": "0ee89456",
   "metadata": {},
   "outputs": [],
   "source": [
    "arr.insert(5,56)"
   ]
  },
  {
   "cell_type": "code",
   "execution_count": 11,
   "id": "78238fdc",
   "metadata": {},
   "outputs": [
    {
     "data": {
      "text/plain": [
       "2"
      ]
     },
     "execution_count": 11,
     "metadata": {},
     "output_type": "execute_result"
    }
   ],
   "source": [
    "#Count the frequency of an element present inside the array\n",
    "arr.count(56)"
   ]
  },
  {
   "cell_type": "code",
   "execution_count": 12,
   "id": "ad38a7ec",
   "metadata": {},
   "outputs": [
    {
     "data": {
      "text/plain": [
       "89"
      ]
     },
     "execution_count": 12,
     "metadata": {},
     "output_type": "execute_result"
    }
   ],
   "source": [
    "#Remove an element by using the index\n",
    "arr.pop(4)"
   ]
  },
  {
   "cell_type": "code",
   "execution_count": 13,
   "id": "b509b933",
   "metadata": {},
   "outputs": [
    {
     "data": {
      "text/plain": [
       "[56, 78, 5, 23, 56]"
      ]
     },
     "execution_count": 13,
     "metadata": {},
     "output_type": "execute_result"
    }
   ],
   "source": [
    "arr"
   ]
  },
  {
   "cell_type": "code",
   "execution_count": 14,
   "id": "cdfc7da3",
   "metadata": {},
   "outputs": [],
   "source": [
    "arr.sort()"
   ]
  },
  {
   "cell_type": "code",
   "execution_count": 15,
   "id": "3ea1a195",
   "metadata": {},
   "outputs": [
    {
     "data": {
      "text/plain": [
       "[5, 23, 56, 56, 78]"
      ]
     },
     "execution_count": 15,
     "metadata": {},
     "output_type": "execute_result"
    }
   ],
   "source": [
    "arr"
   ]
  },
  {
   "cell_type": "code",
   "execution_count": 17,
   "id": "ac144fef",
   "metadata": {},
   "outputs": [
    {
     "data": {
      "text/plain": [
       "2"
      ]
     },
     "execution_count": 17,
     "metadata": {},
     "output_type": "execute_result"
    }
   ],
   "source": [
    "arr.index(56)"
   ]
  },
  {
   "cell_type": "code",
   "execution_count": 18,
   "id": "3f1ab194",
   "metadata": {},
   "outputs": [],
   "source": [
    "#extent\n",
    "arr.extend([2,3,23,4,45])"
   ]
  },
  {
   "cell_type": "code",
   "execution_count": 19,
   "id": "4660d050",
   "metadata": {},
   "outputs": [
    {
     "data": {
      "text/plain": [
       "[5, 23, 56, 56, 78, 2, 3, 23, 4, 45]"
      ]
     },
     "execution_count": 19,
     "metadata": {},
     "output_type": "execute_result"
    }
   ],
   "source": [
    "arr"
   ]
  },
  {
   "cell_type": "code",
   "execution_count": 20,
   "id": "5a13d915",
   "metadata": {},
   "outputs": [
    {
     "data": {
      "text/plain": [
       "[45, 4, 23, 3, 2, 78, 56, 56, 23, 5]"
      ]
     },
     "execution_count": 20,
     "metadata": {},
     "output_type": "execute_result"
    }
   ],
   "source": [
    "arr.reverse()\n",
    "arr"
   ]
  },
  {
   "cell_type": "code",
   "execution_count": 29,
   "id": "0bcd229c",
   "metadata": {},
   "outputs": [
    {
     "name": "stdout",
     "output_type": "stream",
     "text": [
      "Enter the number of elements you want to enter: 5\n",
      "Enter the elements:\n",
      "34\n",
      "45\n",
      "56\n",
      "67\n",
      "78\n",
      "Enter the element you want to search: 45\n",
      "Element found at position:  1\n"
     ]
    }
   ],
   "source": [
    "#Binary Search using RECURSION\n",
    "#Time Complexity\n",
    "\n",
    "def BinarySearch(arr,i,j,x):\n",
    "    while i<=j:\n",
    "        mid=i+(j-i)//2\n",
    "        if arr[mid]==x:\n",
    "            return mid\n",
    "        elif arr[mid]<x:\n",
    "            return BinarySearch(arr,mid+1,j,x)\n",
    "        else:\n",
    "            return BinarySearch(arr,i,mid-1,x)\n",
    "    return -1\n",
    "\n",
    "arr=[]\n",
    "n=int(input(\"Enter the number of elements you want to enter: \"))\n",
    "print(\"Enter the elements:\")\n",
    "for i in range(n):\n",
    "      num=int(input())\n",
    "      arr.append(num)\n",
    "\n",
    "i=0\n",
    "j=len(arr)-1\n",
    "key=int(input(\"Enter the element you want to search: \"))\n",
    "result=BinarySearch(arr,i,j,key)\n",
    "if result==-1:\n",
    "      print(\"Element not found\")\n",
    "else:\n",
    "      print(\"Element found at position: \",result)"
   ]
  },
  {
   "cell_type": "code",
   "execution_count": 32,
   "id": "3ad641fe",
   "metadata": {},
   "outputs": [
    {
     "name": "stdout",
     "output_type": "stream",
     "text": [
      "Enter the number of elements you want to enter: 3\n",
      "Enter the elements:\n",
      "12\n",
      "23\n",
      "34\n",
      "Enter the element you want to search: 23\n",
      "Element found at position:  1\n"
     ]
    }
   ],
   "source": [
    "#Binary Search using ITERATIVE APPROACH\n",
    "\n",
    "def BinarySearch(arr,i,j,x):\n",
    "    while i<=j:\n",
    "        mid=i+(j-i)//2\n",
    "        if arr[mid]==x:\n",
    "            return mid\n",
    "        elif arr[mid]<x:\n",
    "            i=mid+1\n",
    "        else:\n",
    "            j=mid-1\n",
    "    return -1\n",
    "\n",
    "arr=[]\n",
    "n=int(input(\"Enter the number of elements you want to enter: \"))\n",
    "print(\"Enter the elements:\")\n",
    "for i in range(n):\n",
    "      num=int(input())\n",
    "      arr.append(num)\n",
    "\n",
    "i=0\n",
    "j=len(arr)-1\n",
    "key=int(input(\"Enter the element you want to search: \"))\n",
    "result=BinarySearch(arr,i,j,key)\n",
    "if result==-1:\n",
    "      print(\"Element not found\")\n",
    "else:\n",
    "      print(\"Element found at position: \",result)"
   ]
  },
  {
   "cell_type": "code",
   "execution_count": 39,
   "id": "e9099c6d",
   "metadata": {},
   "outputs": [
    {
     "name": "stdout",
     "output_type": "stream",
     "text": [
      "Element not found\n"
     ]
    }
   ],
   "source": [
    "def BinarySearch(arr,i,j):\n",
    "    while i<=j:\n",
    "        mid=i+(j-i)//2\n",
    "        if arr[mid]=='inf':\n",
    "            return mid\n",
    "#         elif arr[mid]<x:\n",
    "#             i=mid+1\n",
    "        else:\n",
    "            i=mid+1\n",
    "    return -1\n",
    "\n",
    "arr=[20,-30,1,2,3,'inf','inf','inf']\n",
    "key='inf'\n",
    "result=BinarySearch(arr,i,j)\n",
    "if result==-1:\n",
    "      print(\"Element not found\")\n",
    "else:\n",
    "      print(\"Element found at position: \",result)"
   ]
  },
  {
   "cell_type": "code",
   "execution_count": null,
   "id": "78ebad65",
   "metadata": {},
   "outputs": [],
   "source": []
  },
  {
   "cell_type": "code",
   "execution_count": null,
   "id": "fe9523a3",
   "metadata": {},
   "outputs": [],
   "source": []
  }
 ],
 "metadata": {
  "kernelspec": {
   "display_name": "Python 3 (ipykernel)",
   "language": "python",
   "name": "python3"
  },
  "language_info": {
   "codemirror_mode": {
    "name": "ipython",
    "version": 3
   },
   "file_extension": ".py",
   "mimetype": "text/x-python",
   "name": "python",
   "nbconvert_exporter": "python",
   "pygments_lexer": "ipython3",
   "version": "3.11.5"
  }
 },
 "nbformat": 4,
 "nbformat_minor": 5
}

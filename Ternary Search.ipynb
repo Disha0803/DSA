{
 "cells": [
  {
   "cell_type": "code",
   "execution_count": 2,
   "id": "b96347cc",
   "metadata": {},
   "outputs": [
    {
     "name": "stdout",
     "output_type": "stream",
     "text": [
      "Enter the number of elements you want to enter: 5\n",
      "Enter the elements:\n",
      "1\n",
      "2\n",
      "3\n",
      "4\n",
      "6\n",
      "Enter the element you want to search: 5\n",
      "Element not found\n"
     ]
    }
   ],
   "source": [
    "#Iterative Approach\n",
    "\n",
    "def TernarySearch(arr,l,r,x):\n",
    "    while l<=r:\n",
    "        mid1=l+(r-l)//3\n",
    "        mid2=r-(r-l)//3\n",
    "        if arr[mid1]==x:\n",
    "            return mid1\n",
    "        elif arr[mid2]==x:\n",
    "            return mid2\n",
    "        elif x<arr[mid1]:\n",
    "            r=mid1-1\n",
    "        elif x>arr[mid2]:\n",
    "            l=mid2+1\n",
    "        else:\n",
    "            l=mid1+1\n",
    "            r=mid2-1\n",
    "    return -1\n",
    "\n",
    "arr=[]\n",
    "n=int(input(\"Enter the number of elements you want to enter: \"))\n",
    "print(\"Enter the elements:\")\n",
    "for i in range(n):\n",
    "      num=int(input())\n",
    "      arr.append(num)\n",
    "\n",
    "i=0\n",
    "j=len(arr)-1\n",
    "key=int(input(\"Enter the element you want to search: \"))\n",
    "result=TernarySearch(arr,i,j,key)\n",
    "if result==-1:\n",
    "      print(\"Element not found\")\n",
    "else:\n",
    "      print(\"Element found at position: \",result)"
   ]
  },
  {
   "cell_type": "code",
   "execution_count": 6,
   "id": "df0042bb",
   "metadata": {},
   "outputs": [
    {
     "name": "stdout",
     "output_type": "stream",
     "text": [
      "Enter the number of elements you want to enter: 10\n",
      "Enter the elements:\n",
      "1\n",
      "2\n",
      "3\n",
      "4\n",
      "5\n",
      "6\n",
      "7\n",
      "8\n",
      "9\n",
      "10\n",
      "Enter the element you want to search: 9\n",
      "Element found at position:  8\n"
     ]
    }
   ],
   "source": [
    "#Recursive Approach\n",
    "\n",
    "def TernarySearch(arr,l,r,x):\n",
    "    while l<=r:\n",
    "        mid1=l+(r-l)//3\n",
    "        mid2=r-(r-l)//3\n",
    "        if arr[mid1]==x:\n",
    "            return mid1\n",
    "        elif arr[mid2]==x:\n",
    "            return mid2\n",
    "        elif x<arr[mid1]:\n",
    "            return TernarySearch(arr,l,mid1-1,x)\n",
    "        elif x>arr[mid2]:\n",
    "            return TernarySearch(arr,mid2+1,r,x)\n",
    "        else:\n",
    "            return TernarySearch(arr,mid1+1,mid2-1,x)\n",
    "    return -1\n",
    "\n",
    "arr=[]\n",
    "n=int(input(\"Enter the number of elements you want to enter: \"))\n",
    "print(\"Enter the elements:\")\n",
    "for i in range(n):\n",
    "      num=int(input())\n",
    "      arr.append(num)\n",
    "\n",
    "i=0\n",
    "j=len(arr)-1\n",
    "key=int(input(\"Enter the element you want to search: \"))\n",
    "result=TernarySearch(arr,i,j,key)\n",
    "if result==-1:\n",
    "      print(\"Element not found\")\n",
    "else:\n",
    "      print(\"Element found at position: \",result)"
   ]
  },
  {
   "cell_type": "code",
   "execution_count": null,
   "id": "fcd52a03",
   "metadata": {},
   "outputs": [],
   "source": []
  }
 ],
 "metadata": {
  "kernelspec": {
   "display_name": "Python 3 (ipykernel)",
   "language": "python",
   "name": "python3"
  },
  "language_info": {
   "codemirror_mode": {
    "name": "ipython",
    "version": 3
   },
   "file_extension": ".py",
   "mimetype": "text/x-python",
   "name": "python",
   "nbconvert_exporter": "python",
   "pygments_lexer": "ipython3",
   "version": "3.11.5"
  }
 },
 "nbformat": 4,
 "nbformat_minor": 5
}

{
 "cells": [
  {
   "cell_type": "code",
   "execution_count": 7,
   "id": "688e62fc",
   "metadata": {},
   "outputs": [
    {
     "name": "stdout",
     "output_type": "stream",
     "text": [
      "Enter a number: 51\n",
      "The sum of digits of  51  is:  6\n"
     ]
    }
   ],
   "source": [
    "#Sum of Digits (Recursive Approach)\n",
    "\n",
    "def sumofdigits(num):\n",
    "    if num < 10:\n",
    "        return num\n",
    "    else:\n",
    "        return (num%10)+sumofdigits(num//10)\n",
    "\n",
    "num = int(input(\"Enter a number: \"))\n",
    "print(\"The sum of digits of \",num,\" is: \",sumofdigits(num))"
   ]
  },
  {
   "cell_type": "code",
   "execution_count": null,
   "id": "20f9ffc5",
   "metadata": {},
   "outputs": [],
   "source": []
  },
  {
   "cell_type": "code",
   "execution_count": null,
   "id": "809337e7",
   "metadata": {},
   "outputs": [],
   "source": []
  }
 ],
 "metadata": {
  "kernelspec": {
   "display_name": "Python 3 (ipykernel)",
   "language": "python",
   "name": "python3"
  },
  "language_info": {
   "codemirror_mode": {
    "name": "ipython",
    "version": 3
   },
   "file_extension": ".py",
   "mimetype": "text/x-python",
   "name": "python",
   "nbconvert_exporter": "python",
   "pygments_lexer": "ipython3",
   "version": "3.11.5"
  }
 },
 "nbformat": 4,
 "nbformat_minor": 5
}

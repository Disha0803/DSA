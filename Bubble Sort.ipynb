{
 "cells": [
  {
   "cell_type": "code",
   "execution_count": 4,
   "id": "2e277e2b",
   "metadata": {},
   "outputs": [
    {
     "name": "stdout",
     "output_type": "stream",
     "text": [
      "Enter the number of elements you want to enter: 10\n",
      "Enter the elements:\n",
      "34\n",
      "45\n",
      "67\n",
      "89\n",
      "98\n",
      "70\n",
      "60\n",
      "13\n",
      "16\n",
      "15\n",
      "The sorted array is:\n",
      "13 15 16 34 45 60 67 70 89 98 "
     ]
    }
   ],
   "source": [
    "def BubbleSort(arr):\n",
    "    n=len(arr)\n",
    "    for i in range(n):\n",
    "        for j in range(n-i-1):\n",
    "            if arr[j]>arr[j+1]:\n",
    "                temp=arr[j+1]\n",
    "                arr[j+1]=arr[j]\n",
    "                arr[j]=temp\n",
    "    return arr\n",
    "\n",
    "arr=[]\n",
    "n=int(input(\"Enter the number of elements you want to enter: \"))\n",
    "print(\"Enter the elements:\")\n",
    "for i in range(n):\n",
    "      num=int(input())\n",
    "      arr.append(num)\n",
    "\n",
    "result=BubbleSort(arr)\n",
    "print(\"The sorted array is:\")            \n",
    "for i in range(n):\n",
    "    print(result[i],end=\" \")"
   ]
  },
  {
   "cell_type": "code",
   "execution_count": null,
   "id": "65af0a15",
   "metadata": {},
   "outputs": [],
   "source": []
  }
 ],
 "metadata": {
  "kernelspec": {
   "display_name": "Python 3 (ipykernel)",
   "language": "python",
   "name": "python3"
  },
  "language_info": {
   "codemirror_mode": {
    "name": "ipython",
    "version": 3
   },
   "file_extension": ".py",
   "mimetype": "text/x-python",
   "name": "python",
   "nbconvert_exporter": "python",
   "pygments_lexer": "ipython3",
   "version": "3.11.5"
  }
 },
 "nbformat": 4,
 "nbformat_minor": 5
}

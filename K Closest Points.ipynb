{
 "cells": [
  {
   "cell_type": "code",
   "execution_count": 14,
   "id": "128c3ca1",
   "metadata": {},
   "outputs": [
    {
     "name": "stdout",
     "output_type": "stream",
     "text": [
      "[[1, 1], [3, 3]]\n"
     ]
    }
   ],
   "source": [
    "from heapq import heappush, heappop\n",
    "import math\n",
    "\n",
    "def get_dist(x, y):\n",
    "    return math.sqrt(x**2+y**2)\n",
    "\n",
    "def kClosestPoints(points, k):\n",
    "    n = len(points)\n",
    "    min_heap = []\n",
    "    for i in range(n):\n",
    "        x = points[i][0]\n",
    "        y = points[i][1]\n",
    "        \n",
    "        heappush(min_heap, (get_dist(x, y), points[i]))\n",
    "    \n",
    "    result = []\n",
    "    for i in range(k):\n",
    "        result.append(heappop(min_heap)[1])\n",
    "    return result\n",
    "\n",
    "points=[[3, 3], [-2, 4], [5, -1], [1, 1], [2, -5]]\n",
    "k=2\n",
    "print(kClosestPoints(points, k))"
   ]
  },
  {
   "cell_type": "code",
   "execution_count": null,
   "id": "8f2fa61c",
   "metadata": {},
   "outputs": [],
   "source": []
  }
 ],
 "metadata": {
  "kernelspec": {
   "display_name": "Python 3 (ipykernel)",
   "language": "python",
   "name": "python3"
  },
  "language_info": {
   "codemirror_mode": {
    "name": "ipython",
    "version": 3
   },
   "file_extension": ".py",
   "mimetype": "text/x-python",
   "name": "python",
   "nbconvert_exporter": "python",
   "pygments_lexer": "ipython3",
   "version": "3.11.5"
  }
 },
 "nbformat": 4,
 "nbformat_minor": 5
}

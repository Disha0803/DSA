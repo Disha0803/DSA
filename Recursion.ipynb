{
 "cells": [
  {
   "cell_type": "code",
   "execution_count": 21,
   "id": "3cbf73c6",
   "metadata": {},
   "outputs": [
    {
     "name": "stdout",
     "output_type": "stream",
     "text": [
      "Enter a number you want to find the factorial of: 6\n",
      "The factorial of  6  is:  720\n"
     ]
    }
   ],
   "source": [
    "#Factorial (Using Recursion)\\\n",
    "#Time Comple\n",
    "def fact(num):\n",
    "    if num == 0 or num == 1:\n",
    "        return 1\n",
    "    else:\n",
    "        result = num * fact(num-1)\n",
    "    return result\n",
    "\n",
    "num = int(input(\"Enter a number you want to find the factorial of: \"))\n",
    "result = fact(num)\n",
    "print(\"The factorial of \",num, \" is: \",result)"
   ]
  },
  {
   "cell_type": "code",
   "execution_count": 23,
   "id": "3ac9b45c",
   "metadata": {},
   "outputs": [
    {
     "name": "stdout",
     "output_type": "stream",
     "text": [
      "Enter a number you want to find the factorial of: 5\n",
      "The factorial of  5  is:  120\n"
     ]
    }
   ],
   "source": [
    "#Factorial (Iterative Approach)\n",
    "def fact(num):\n",
    "    result = 1\n",
    "    if num == 0 or num == 1:\n",
    "        return 1\n",
    "    else:\n",
    "        for i in range(2, num+1):\n",
    "            result = result * i\n",
    "    return result\n",
    "\n",
    "num = int(input(\"Enter a number you want to find the factorial of: \"))\n",
    "result = fact(num)\n",
    "print(\"The factorial of \",num, \" is: \",result)"
   ]
  },
  {
   "cell_type": "markdown",
   "id": "db9badb1",
   "metadata": {},
   "source": []
  }
 ],
 "metadata": {
  "kernelspec": {
   "display_name": "Python 3 (ipykernel)",
   "language": "python",
   "name": "python3"
  },
  "language_info": {
   "codemirror_mode": {
    "name": "ipython",
    "version": 3
   },
   "file_extension": ".py",
   "mimetype": "text/x-python",
   "name": "python",
   "nbconvert_exporter": "python",
   "pygments_lexer": "ipython3",
   "version": "3.11.5"
  }
 },
 "nbformat": 4,
 "nbformat_minor": 5
}

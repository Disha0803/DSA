{
 "cells": [
  {
   "cell_type": "code",
   "execution_count": 3,
   "id": "86ed2ade",
   "metadata": {},
   "outputs": [
    {
     "name": "stdout",
     "output_type": "stream",
     "text": [
      "The points are not collinear\n"
     ]
    }
   ],
   "source": [
    "#Approach 1 (Using Slope)\n",
    "#Time Complexity: O(1)\n",
    "#Space Complexity: O(1)\n",
    "\n",
    "def checkCollinearPoints(x1, x2, x3, y1, y2, y3):\n",
    "    if (y2-y1)*(x3-x2) == (y3-y2)*(x2-x1):\n",
    "        print(\"The points are collinear\")\n",
    "    else:\n",
    "        print(\"The points are not collinear\")\n",
    "\n",
    "# x1, x2, x3, y1, y2, y3 = 1, 1, 1, 6, 0, 9 //collinear\n",
    "x1, x2, x3, y1, y2, y3 = 1, 0, 1, 6, 0, 9 #not collinear\n",
    "checkCollinearPoints(x1, x2, x3, y1, y2, y3)"
   ]
  },
  {
   "cell_type": "code",
   "execution_count": 5,
   "id": "f9141f9e",
   "metadata": {},
   "outputs": [
    {
     "name": "stdout",
     "output_type": "stream",
     "text": [
      "The points are collinear\n"
     ]
    }
   ],
   "source": [
    "#Approach 2 (Using Area of Triangle)\n",
    "#Time Complexity: O(1)\n",
    "#Space Complexity: O(1)\n",
    "\n",
    "def checkCollinearPoints(x1, x2, x3, y1, y2, y3):\n",
    "    if (0.5*(x1*(y2-y3)+x2*(y3-y1)+x3*(y1-y2))) == 0:\n",
    "        print(\"The points are collinear\")\n",
    "    else:\n",
    "        print(\"The points are not collinear\")\n",
    "\n",
    "x1, x2, x3, y1, y2, y3 = 1, 1, 1, 6, 0, 9 #collinear\n",
    "# x1, x2, x3, y1, y2, y3 = 1, 0, 1, 6, 0, 9 #not collinear\n",
    "checkCollinearPoints(x1, x2, x3, y1, y2, y3)"
   ]
  },
  {
   "cell_type": "code",
   "execution_count": null,
   "id": "315a9914",
   "metadata": {},
   "outputs": [],
   "source": []
  }
 ],
 "metadata": {
  "kernelspec": {
   "display_name": "Python 3 (ipykernel)",
   "language": "python",
   "name": "python3"
  },
  "language_info": {
   "codemirror_mode": {
    "name": "ipython",
    "version": 3
   },
   "file_extension": ".py",
   "mimetype": "text/x-python",
   "name": "python",
   "nbconvert_exporter": "python",
   "pygments_lexer": "ipython3",
   "version": "3.11.5"
  }
 },
 "nbformat": 4,
 "nbformat_minor": 5
}

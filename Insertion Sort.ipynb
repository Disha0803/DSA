{
 "cells": [
  {
   "cell_type": "code",
   "execution_count": 3,
   "id": "de6e81cf",
   "metadata": {},
   "outputs": [
    {
     "name": "stdout",
     "output_type": "stream",
     "text": [
      "Enter the number of elements you want to enter: 2\n",
      "Enter the elements:\n",
      "1\n",
      "2\n",
      "The sorted array is:\n",
      "1 2 "
     ]
    }
   ],
   "source": [
    "def InsertionSort(arr):\n",
    "    n=len(arr)\n",
    "    for i in range(1,n):\n",
    "        key=arr[i]\n",
    "        j=i-1\n",
    "        while j>=0 and key<=arr[j]:\n",
    "            arr[j+1] = arr[j]\n",
    "            j=j-1\n",
    "        arr[j+1]=key\n",
    "            \n",
    "    return arr\n",
    "\n",
    "arr=[]\n",
    "n=int(input(\"Enter the number of elements you want to enter: \"))\n",
    "print(\"Enter the elements:\") \n",
    "for i in range(n):\n",
    "      num=int(input())\n",
    "      arr.append(num)\n",
    "\n",
    "result=InsertionSort(arr)\n",
    "print(\"The sorted array is:\")            \n",
    "for i in range(n):\n",
    "    print(result[i],end=\" \")"
   ]
  },
  {
   "cell_type": "code",
   "execution_count": null,
   "id": "46509bee",
   "metadata": {},
   "outputs": [],
   "source": []
  }
 ],
 "metadata": {
  "kernelspec": {
   "display_name": "Python 3 (ipykernel)",
   "language": "python",
   "name": "python3"
  },
  "language_info": {
   "codemirror_mode": {
    "name": "ipython",
    "version": 3
   },
   "file_extension": ".py",
   "mimetype": "text/x-python",
   "name": "python",
   "nbconvert_exporter": "python",
   "pygments_lexer": "ipython3",
   "version": "3.11.5"
  }
 },
 "nbformat": 4,
 "nbformat_minor": 5
}

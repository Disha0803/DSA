{
 "cells": [
  {
   "cell_type": "code",
   "execution_count": 4,
   "id": "77749aaf",
   "metadata": {},
   "outputs": [
    {
     "name": "stdout",
     "output_type": "stream",
     "text": [
      "[0, 0, 0, 1, 1, 1, 1, 2, 2, 2]\n"
     ]
    }
   ],
   "source": [
    "#Two Pointers Concept (Optimized Algorithm)\n",
    "#Time Complexity: O(n) <<< Time Complexity of Merge/ Quick Sort (i.e. O(nlogn))\n",
    "#Space Complexity: O(1)\n",
    "\n",
    "def sortColors(num):\n",
    "    P0 = curr = 0\n",
    "    P2 = len(nums)-1\n",
    "    \n",
    "    while curr <= P2:\n",
    "        if nums[curr] == 0:\n",
    "            nums[curr], nums[P0] = nums[P0], nums[curr]\n",
    "            P0 += 1\n",
    "            curr += 1\n",
    "        elif num[curr] == 2:\n",
    "            nums[curr], nums[P2] = nums[P2], nums[curr]\n",
    "            P2 -= 1\n",
    "        else:\n",
    "            curr += 1\n",
    "            \n",
    "    return nums\n",
    "\n",
    "    \n",
    "nums = [0, 1, 2, 0, 2, 1, 1, 0, 2, 1]\n",
    "result = sortColors(nums)\n",
    "print(result)"
   ]
  },
  {
   "cell_type": "code",
   "execution_count": null,
   "id": "9a5d0c3d",
   "metadata": {},
   "outputs": [],
   "source": []
  }
 ],
 "metadata": {
  "kernelspec": {
   "display_name": "Python 3 (ipykernel)",
   "language": "python",
   "name": "python3"
  },
  "language_info": {
   "codemirror_mode": {
    "name": "ipython",
    "version": 3
   },
   "file_extension": ".py",
   "mimetype": "text/x-python",
   "name": "python",
   "nbconvert_exporter": "python",
   "pygments_lexer": "ipython3",
   "version": "3.11.5"
  }
 },
 "nbformat": 4,
 "nbformat_minor": 5
}

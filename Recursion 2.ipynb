{
 "cells": [
  {
   "cell_type": "code",
   "execution_count": 8,
   "id": "43a307ac",
   "metadata": {},
   "outputs": [
    {
     "name": "stdout",
     "output_type": "stream",
     "text": [
      "Enter the number of terms: 8\n",
      "0\n",
      "1\n",
      "1\n",
      "2\n",
      "3\n",
      "5\n",
      "8\n",
      "13\n"
     ]
    }
   ],
   "source": [
    "#Fibonacci Series\n",
    "#Time Complexity: O(2^n)\n",
    "\n",
    "def fibo(num):\n",
    "    if num <= 1:\n",
    "        return num\n",
    "    else:\n",
    "        return fibo(num-1)+fibo(num-2)\n",
    "\n",
    "num = int(input(\"Enter the number of terms: \"))\n",
    "for i in range(num):\n",
    "    print(fibo(i))"
   ]
  },
  {
   "cell_type": "code",
   "execution_count": null,
   "id": "7cd939fc",
   "metadata": {},
   "outputs": [],
   "source": []
  }
 ],
 "metadata": {
  "kernelspec": {
   "display_name": "Python 3 (ipykernel)",
   "language": "python",
   "name": "python3"
  },
  "language_info": {
   "codemirror_mode": {
    "name": "ipython",
    "version": 3
   },
   "file_extension": ".py",
   "mimetype": "text/x-python",
   "name": "python",
   "nbconvert_exporter": "python",
   "pygments_lexer": "ipython3",
   "version": "3.11.5"
  }
 },
 "nbformat": 4,
 "nbformat_minor": 5
}
